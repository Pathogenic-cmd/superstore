{
 "cells": [
  {
   "cell_type": "code",
   "execution_count": 11,
   "id": "e3b64eb8-d974-4011-9ce6-cf70c9f3fb5d",
   "metadata": {},
   "outputs": [],
   "source": [
    "import pymysql\n",
    "import pandas as pd\n",
    "import csv"
   ]
  },
  {
   "cell_type": "markdown",
   "id": "6b2007b4-a22b-4326-8b54-4c3b6acd40fa",
   "metadata": {},
   "source": [
    "# We want to fill in the missing product IDs after encountering errors during csv imports to sql"
   ]
  },
  {
   "cell_type": "code",
   "execution_count": 8,
   "id": "a4058be9-88b3-4674-a13a-ce51b54c0f73",
   "metadata": {},
   "outputs": [
    {
     "name": "stdout",
     "output_type": "stream",
     "text": [
      "{'encoding': 'ISO-8859-1', 'confidence': 0.73, 'language': ''}\n"
     ]
    }
   ],
   "source": [
    "import chardet\n",
    "\n",
    "with open('../Data/Superstore.csv', 'rb') as f:\n",
    "    result = chardet.detect(f.read(10000))  # check first 10k bytes\n",
    "print(result)"
   ]
  },
  {
   "cell_type": "code",
   "execution_count": 7,
   "id": "215d00c7-65ae-4291-81e1-51e258a44582",
   "metadata": {},
   "outputs": [],
   "source": [
    "supastore = pd.read_csv('../Data/superstore.csv', encoding='ISO-8859-1')"
   ]
  },
  {
   "cell_type": "code",
   "execution_count": 8,
   "id": "2c90b720-4ea0-4787-a08c-4d0f09b5e566",
   "metadata": {},
   "outputs": [],
   "source": [
    "pid_unique = supastore.drop_duplicates(subset='Product ID')"
   ]
  },
  {
   "cell_type": "code",
   "execution_count": 2,
   "id": "698e4f19-5ce5-4543-81e1-d8245183106a",
   "metadata": {},
   "outputs": [],
   "source": [
    "# Connection config\n",
    "db_config = {\n",
    "    \"host\": \"localhost\",\n",
    "    \"user\": \"root\",\n",
    "    \"password\": \"root\",\n",
    "    \"database\": \"supastore(2025)\"\n",
    "}"
   ]
  },
  {
   "cell_type": "code",
   "execution_count": 3,
   "id": "11240488-98a7-4d91-8280-5c72a0ef4045",
   "metadata": {},
   "outputs": [],
   "source": [
    "# Connect to the database\n",
    "conn = pymysql.connect(**db_config)\n",
    "cursor = conn.cursor()"
   ]
  },
  {
   "cell_type": "code",
   "execution_count": 12,
   "id": "76dff116-d51a-4da3-b59f-528e22c3fe81",
   "metadata": {},
   "outputs": [],
   "source": [
    "#Get existing Product IDs from the target table\n",
    "cursor.execute(\"SELECT `ï»¿Product ID` FROM products\")\n",
    "existing_ids = {row[0] for row in cursor.fetchall()}"
   ]
  },
  {
   "cell_type": "code",
   "execution_count": 13,
   "id": "75a10e00-9db4-45ae-ba70-b49c2c85ed04",
   "metadata": {},
   "outputs": [],
   "source": [
    "#Filter only missing Product IDs\n",
    "df_missing = pid_unique[~pid_unique['Product ID'].isin(existing_ids)]"
   ]
  },
  {
   "cell_type": "code",
   "execution_count": 21,
   "id": "02a24232-5ac2-4ca3-acd4-a6ec6c1a7a47",
   "metadata": {},
   "outputs": [
    {
     "data": {
      "text/plain": [
       "np.int64(1764)"
      ]
     },
     "execution_count": 21,
     "metadata": {},
     "output_type": "execute_result"
    }
   ],
   "source": [
    "df_missing['Product ID'].value_counts().sum()"
   ]
  },
  {
   "cell_type": "code",
   "execution_count": 15,
   "id": "246ab772-745d-4f63-b7bd-d5f7a8fedc15",
   "metadata": {},
   "outputs": [
    {
     "name": "stdout",
     "output_type": "stream",
     "text": [
      "Inserted 1764 missing unique product rows.\n"
     ]
    }
   ],
   "source": [
    "# Insert missing rows into the database\n",
    "insert_query = \"\"\"\n",
    "    INSERT INTO products (`ï»¿Product ID`, `Product Name`, `Category`, `Sub-Category`)\n",
    "    VALUES (%s, %s, %s, %s)\n",
    "\"\"\"\n",
    "cursor.executemany(insert_query, df_missing[['Product ID', 'Product Name', 'Category', 'Sub-Category']].values.tolist())\n",
    "conn.commit()\n",
    "\n",
    "print(f\"Inserted {len(df_missing)} missing unique product rows.\")\n",
    "\n",
    "# Cleanup\n",
    "cursor.close()\n",
    "conn.close()"
   ]
  },
  {
   "cell_type": "code",
   "execution_count": 13,
   "id": "f0579118-e2ef-4808-b49a-8275526a18e6",
   "metadata": {},
   "outputs": [],
   "source": [
    "cursor.execute(\"SELECT * FROM products\")\n",
    "prod =  cursor.fetchall()"
   ]
  },
  {
   "cell_type": "code",
   "execution_count": 14,
   "id": "0f3b07c5-bc82-4f3a-9477-43171abda2d3",
   "metadata": {},
   "outputs": [],
   "source": [
    "columns = [desc[0] for desc in cursor.description]"
   ]
  },
  {
   "cell_type": "code",
   "execution_count": 18,
   "id": "c9f1d55e-35ac-4349-a64a-318b76ee97dc",
   "metadata": {},
   "outputs": [],
   "source": [
    "with open(\"C:\\supastore\\Data\\clean_products.csv\", \"w\", newline='', encoding = \"utf-8\") as f:\n",
    "    writer = csv.writer(f)\n",
    "    writer.writerow(columns)\n",
    "    writer.writerows(prod)"
   ]
  }
 ],
 "metadata": {
  "kernelspec": {
   "display_name": "Python 3 (ipykernel)",
   "language": "python",
   "name": "python3"
  },
  "language_info": {
   "codemirror_mode": {
    "name": "ipython",
    "version": 3
   },
   "file_extension": ".py",
   "mimetype": "text/x-python",
   "name": "python",
   "nbconvert_exporter": "python",
   "pygments_lexer": "ipython3",
   "version": "3.10.11"
  }
 },
 "nbformat": 4,
 "nbformat_minor": 5
}
